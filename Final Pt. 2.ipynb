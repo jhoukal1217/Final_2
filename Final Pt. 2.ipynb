{
 "cells": [
  {
   "cell_type": "markdown",
   "metadata": {},
   "source": [
    "Some initial comments: Even as an EDA assignment, this is a work in progress. I've played around quite a bit with the data, and I think some of that is a reflection of my level of comfort (or lack thereof) with some modeling processes. Still, I hope this constitutes a reasonable beginning. "
   ]
  },
  {
   "cell_type": "code",
   "execution_count": 1,
   "metadata": {},
   "outputs": [],
   "source": [
    "import matplotlib.pyplot as plt\n",
    "\n",
    "% matplotlib inline"
   ]
  },
  {
   "cell_type": "code",
   "execution_count": 2,
   "metadata": {},
   "outputs": [],
   "source": [
    "import pandas as pd\n",
    "import numpy as np\n",
    "import seaborn as sns\n",
    "import collections\n",
    "import os\n",
    "\n",
    "os.chdir('C:\\Users\\jhoukal\\Desktop\\New folder')\n",
    "\n",
    "files = [f for f in os.listdir(os.getcwd()) if f.endswith('csv')]\n",
    "files #I'd like to make this part dynamic, but for the meantime I at least get a quick list of the files I want to upload\n",
    "\n",
    "Login = pd.read_csv('LoginData.csv')\n",
    "Login.rename(columns={ Login.columns[0]: \"ENTITY\"}, inplace=True)\n",
    "\n",
    "Partner = pd.read_csv('PartnerData.csv')\n",
    "Partner.rename(columns={ Partner.columns[0]: \"ENTITY\"}, inplace=True)\n",
    "\n",
    "Events = pd.read_csv('EventData.csv')\n",
    "Events.rename(columns={ Events.columns[0]: \"ENTITY\"}, inplace=True)\n",
    "\n",
    "SF = pd.read_csv('Salesforce.csv')\n",
    "SF.rename(columns={ SF.columns[0]: \"ENTITY\"}, inplace=True)\n",
    "SF.drop_duplicates(['ENTITY'], inplace=True) #because multiple case records are logged for each user, thereby duplicating users"
   ]
  },
  {
   "cell_type": "code",
   "execution_count": 3,
   "metadata": {},
   "outputs": [],
   "source": [
    "df = pd.merge(Login, \n",
    "              pd.merge(Events, \n",
    "                       Partner, \n",
    "                       on='ENTITY', how='outer'),\n",
    "                  on='ENTITY', how='outer')\n",
    "\n",
    "df.drop_duplicates(['ENTITY'], inplace=True) #occasional duplicate users here, too. I don't need them. \n",
    "\n",
    "df['CONTACT'] = np.where(df['ENTITY'].isin(SF['ENTITY']), True,np.nan) #true/false if member actually contacted. "
   ]
  },
  {
   "cell_type": "code",
   "execution_count": 4,
   "metadata": {},
   "outputs": [],
   "source": [
    "df.head()\n",
    "df.set_index('ENTITY', inplace=True) #let's set our index, too:"
   ]
  },
  {
   "cell_type": "code",
   "execution_count": 5,
   "metadata": {},
   "outputs": [
    {
     "name": "stdout",
     "output_type": "stream",
     "text": [
      "FIRST_APP_LOGIN_DATE    273916\n",
      "FIRST_WEB_LOGIN_DATE     18400\n",
      "earned_status_adj        18449\n",
      "hra_completion_date     232976\n",
      "vc_completion_date      383453\n",
      "COVERAGE_EFF_DATE        18331\n",
      "eventdesc               493768\n",
      "partner_name            283250\n",
      "CONTACT                 453014\n",
      "dtype: int64\n"
     ]
    }
   ],
   "source": [
    "print(df.isnull().sum()) #checking range of missing values."
   ]
  },
  {
   "cell_type": "markdown",
   "metadata": {},
   "source": [
    "We must interpret missing values before we can address them. A missing value in the login columns isn't missing data per se; rather, it (normally) indicates that the user hasn't used the specified platform. In my experience, it is safer to treat these as FALSEs or NULLs rather than missing values. As such, I will convert these sorts of columns into booleans.   "
   ]
  },
  {
   "cell_type": "code",
   "execution_count": 6,
   "metadata": {},
   "outputs": [],
   "source": [
    "#so, let's convert them to ones and zeros. \n",
    "mydata = df.notnull().astype('int')"
   ]
  },
  {
   "cell_type": "code",
   "execution_count": 7,
   "metadata": {
    "scrolled": true
   },
   "outputs": [
    {
     "data": {
      "text/plain": [
       "FIRST_APP_LOGIN_DATE    257255\n",
       "FIRST_WEB_LOGIN_DATE    512771\n",
       "earned_status_adj       512722\n",
       "hra_completion_date     298195\n",
       "vc_completion_date      147718\n",
       "COVERAGE_EFF_DATE       512840\n",
       "eventdesc                37403\n",
       "partner_name            247921\n",
       "CONTACT                  78157\n",
       "dtype: int64"
      ]
     },
     "execution_count": 7,
     "metadata": {},
     "output_type": "execute_result"
    }
   ],
   "source": [
    "#I also want to get a sort of \"waterfall\" count...\n",
    "#Basically, this is the count of conversions for each feature\n",
    "\n",
    "(mydata == 1).sum(axis=1)#sum of conversions by row (member)\n",
    "(mydata == 1).sum(axis=0)#sum of conversions by column (feature)\n",
    " "
   ]
  },
  {
   "cell_type": "code",
   "execution_count": 8,
   "metadata": {},
   "outputs": [
    {
     "data": {
      "text/html": [
       "<div>\n",
       "<style scoped>\n",
       "    .dataframe tbody tr th:only-of-type {\n",
       "        vertical-align: middle;\n",
       "    }\n",
       "\n",
       "    .dataframe tbody tr th {\n",
       "        vertical-align: top;\n",
       "    }\n",
       "\n",
       "    .dataframe thead th {\n",
       "        text-align: right;\n",
       "    }\n",
       "</style>\n",
       "<table border=\"1\" class=\"dataframe\">\n",
       "  <thead>\n",
       "    <tr style=\"text-align: right;\">\n",
       "      <th></th>\n",
       "      <th>COVERAGE_EFF_DATE</th>\n",
       "      <th>FIRST_WEB_LOGIN_DATE</th>\n",
       "      <th>earned_status_adj</th>\n",
       "      <th>hra_completion_date</th>\n",
       "      <th>FIRST_APP_LOGIN_DATE</th>\n",
       "      <th>partner_name</th>\n",
       "      <th>vc_completion_date</th>\n",
       "      <th>CONTACT</th>\n",
       "      <th>eventdesc</th>\n",
       "    </tr>\n",
       "    <tr>\n",
       "      <th>ENTITY</th>\n",
       "      <th></th>\n",
       "      <th></th>\n",
       "      <th></th>\n",
       "      <th></th>\n",
       "      <th></th>\n",
       "      <th></th>\n",
       "      <th></th>\n",
       "      <th></th>\n",
       "      <th></th>\n",
       "    </tr>\n",
       "  </thead>\n",
       "  <tbody>\n",
       "    <tr>\n",
       "      <th>1400066864</th>\n",
       "      <td>1</td>\n",
       "      <td>1</td>\n",
       "      <td>1</td>\n",
       "      <td>0</td>\n",
       "      <td>0</td>\n",
       "      <td>0</td>\n",
       "      <td>0</td>\n",
       "      <td>0</td>\n",
       "      <td>0</td>\n",
       "    </tr>\n",
       "    <tr>\n",
       "      <th>1400078091</th>\n",
       "      <td>1</td>\n",
       "      <td>1</td>\n",
       "      <td>1</td>\n",
       "      <td>0</td>\n",
       "      <td>0</td>\n",
       "      <td>0</td>\n",
       "      <td>0</td>\n",
       "      <td>1</td>\n",
       "      <td>0</td>\n",
       "    </tr>\n",
       "    <tr>\n",
       "      <th>1400080725</th>\n",
       "      <td>1</td>\n",
       "      <td>1</td>\n",
       "      <td>1</td>\n",
       "      <td>1</td>\n",
       "      <td>1</td>\n",
       "      <td>1</td>\n",
       "      <td>1</td>\n",
       "      <td>0</td>\n",
       "      <td>0</td>\n",
       "    </tr>\n",
       "    <tr>\n",
       "      <th>1400099642</th>\n",
       "      <td>1</td>\n",
       "      <td>1</td>\n",
       "      <td>1</td>\n",
       "      <td>1</td>\n",
       "      <td>0</td>\n",
       "      <td>0</td>\n",
       "      <td>1</td>\n",
       "      <td>1</td>\n",
       "      <td>0</td>\n",
       "    </tr>\n",
       "    <tr>\n",
       "      <th>1400104459</th>\n",
       "      <td>1</td>\n",
       "      <td>1</td>\n",
       "      <td>1</td>\n",
       "      <td>1</td>\n",
       "      <td>1</td>\n",
       "      <td>1</td>\n",
       "      <td>0</td>\n",
       "      <td>1</td>\n",
       "      <td>0</td>\n",
       "    </tr>\n",
       "  </tbody>\n",
       "</table>\n",
       "</div>"
      ],
      "text/plain": [
       "            COVERAGE_EFF_DATE  FIRST_WEB_LOGIN_DATE  earned_status_adj  \\\n",
       "ENTITY                                                                   \n",
       "1400066864                  1                     1                  1   \n",
       "1400078091                  1                     1                  1   \n",
       "1400080725                  1                     1                  1   \n",
       "1400099642                  1                     1                  1   \n",
       "1400104459                  1                     1                  1   \n",
       "\n",
       "            hra_completion_date  FIRST_APP_LOGIN_DATE  partner_name  \\\n",
       "ENTITY                                                                \n",
       "1400066864                    0                     0             0   \n",
       "1400078091                    0                     0             0   \n",
       "1400080725                    1                     1             1   \n",
       "1400099642                    1                     0             0   \n",
       "1400104459                    1                     1             1   \n",
       "\n",
       "            vc_completion_date  CONTACT  eventdesc  \n",
       "ENTITY                                              \n",
       "1400066864                   0        0          0  \n",
       "1400078091                   0        1          0  \n",
       "1400080725                   1        0          0  \n",
       "1400099642                   1        1          0  \n",
       "1400104459                   0        1          0  "
      ]
     },
     "execution_count": 8,
     "metadata": {},
     "output_type": "execute_result"
    }
   ],
   "source": [
    "#let's then order our columns appropriately\n",
    "mydata = mydata[mydata.sum().sort_values(ascending = False).index]\n",
    "mydata.head()"
   ]
  },
  {
   "cell_type": "code",
   "execution_count": 9,
   "metadata": {},
   "outputs": [
    {
     "data": {
      "image/png": "[encoded data removed]",
      "text/plain": [
       "<matplotlib.figure.Figure at 0x79f6d68>"
      ]
     },
     "metadata": {},
     "output_type": "display_data"
    }
   ],
   "source": [
    "#finally, our waterfall\n",
    "ax = (mydata == 1).sum(axis=0).plot.bar() "
   ]
  },
  {
   "cell_type": "markdown",
   "metadata": {},
   "source": [
    "We see roughly equivalent eff dates, login dates, and earned statuses, which is not surprising because these are almost defaults. Web login requires some member action, but it's not until we see HRA through eventdesc that we have some feature columns requiring user agency. I therefore think it makes sense to drop coverage eff date and earned status. "
   ]
  },
  {
   "cell_type": "code",
   "execution_count": 10,
   "metadata": {},
   "outputs": [],
   "source": [
    "mydata.drop(['COVERAGE_EFF_DATE', 'earned_status_adj'], axis=1, inplace=True)"
   ]
  },
  {
   "cell_type": "code",
   "execution_count": 11,
   "metadata": {},
   "outputs": [
    {
     "data": {
      "image/png": "[encoded data removed]",
      "text/plain": [
       "<matplotlib.figure.Figure at 0x10413828>"
      ]
     },
     "metadata": {},
     "output_type": "display_data"
    }
   ],
   "source": [
    "ax = (mydata == 1).sum(axis=0).plot.bar() #much better!"
   ]
  },
  {
   "cell_type": "code",
   "execution_count": 12,
   "metadata": {},
   "outputs": [
    {
     "name": "stdout",
     "output_type": "stream",
     "text": [
      "FIRST_WEB_LOGIN_DATE    0.965360\n",
      "hra_completion_date     0.561392\n",
      "FIRST_APP_LOGIN_DATE    0.484317\n",
      "partner_name            0.466744\n",
      "vc_completion_date      0.278099\n",
      "CONTACT                 0.147141\n",
      "eventdesc               0.070416\n",
      "dtype: float64\n"
     ]
    }
   ],
   "source": [
    "print(mydata.mean(axis=0))"
   ]
  },
  {
   "cell_type": "code",
   "execution_count": 13,
   "metadata": {},
   "outputs": [
    {
     "data": {
      "text/html": [
       "<div>\n",
       "<style scoped>\n",
       "    .dataframe tbody tr th:only-of-type {\n",
       "        vertical-align: middle;\n",
       "    }\n",
       "\n",
       "    .dataframe tbody tr th {\n",
       "        vertical-align: top;\n",
       "    }\n",
       "\n",
       "    .dataframe thead th {\n",
       "        text-align: right;\n",
       "    }\n",
       "</style>\n",
       "<table border=\"1\" class=\"dataframe\">\n",
       "  <thead>\n",
       "    <tr style=\"text-align: right;\">\n",
       "      <th></th>\n",
       "      <th>FIRST_WEB_LOGIN_DATE</th>\n",
       "      <th>hra_completion_date</th>\n",
       "      <th>FIRST_APP_LOGIN_DATE</th>\n",
       "      <th>partner_name</th>\n",
       "      <th>vc_completion_date</th>\n",
       "      <th>CONTACT</th>\n",
       "      <th>eventdesc</th>\n",
       "    </tr>\n",
       "  </thead>\n",
       "  <tbody>\n",
       "    <tr>\n",
       "      <th>1</th>\n",
       "      <td>135374</td>\n",
       "      <td>0</td>\n",
       "      <td>61</td>\n",
       "      <td>14169</td>\n",
       "      <td>0</td>\n",
       "      <td>0</td>\n",
       "      <td>616</td>\n",
       "    </tr>\n",
       "    <tr>\n",
       "      <th>2</th>\n",
       "      <td>87558</td>\n",
       "      <td>39639</td>\n",
       "      <td>28243</td>\n",
       "      <td>12145</td>\n",
       "      <td>7037</td>\n",
       "      <td>6920</td>\n",
       "      <td>558</td>\n",
       "    </tr>\n",
       "    <tr>\n",
       "      <th>3</th>\n",
       "      <td>78373</td>\n",
       "      <td>53750</td>\n",
       "      <td>38802</td>\n",
       "      <td>31703</td>\n",
       "      <td>25393</td>\n",
       "      <td>6061</td>\n",
       "      <td>1223</td>\n",
       "    </tr>\n",
       "    <tr>\n",
       "      <th>4</th>\n",
       "      <td>92298</td>\n",
       "      <td>86476</td>\n",
       "      <td>75193</td>\n",
       "      <td>74267</td>\n",
       "      <td>26253</td>\n",
       "      <td>11556</td>\n",
       "      <td>3149</td>\n",
       "    </tr>\n",
       "    <tr>\n",
       "      <th>5</th>\n",
       "      <td>78979</td>\n",
       "      <td>78181</td>\n",
       "      <td>75051</td>\n",
       "      <td>75631</td>\n",
       "      <td>54124</td>\n",
       "      <td>21555</td>\n",
       "      <td>11374</td>\n",
       "    </tr>\n",
       "    <tr>\n",
       "      <th>6</th>\n",
       "      <td>33615</td>\n",
       "      <td>33575</td>\n",
       "      <td>33331</td>\n",
       "      <td>33432</td>\n",
       "      <td>28337</td>\n",
       "      <td>25491</td>\n",
       "      <td>13909</td>\n",
       "    </tr>\n",
       "    <tr>\n",
       "      <th>7</th>\n",
       "      <td>6574</td>\n",
       "      <td>6574</td>\n",
       "      <td>6574</td>\n",
       "      <td>6574</td>\n",
       "      <td>6574</td>\n",
       "      <td>6574</td>\n",
       "      <td>6574</td>\n",
       "    </tr>\n",
       "  </tbody>\n",
       "</table>\n",
       "</div>"
      ],
      "text/plain": [
       "   FIRST_WEB_LOGIN_DATE  hra_completion_date  FIRST_APP_LOGIN_DATE  \\\n",
       "1                135374                    0                    61   \n",
       "2                 87558                39639                 28243   \n",
       "3                 78373                53750                 38802   \n",
       "4                 92298                86476                 75193   \n",
       "5                 78979                78181                 75051   \n",
       "6                 33615                33575                 33331   \n",
       "7                  6574                 6574                  6574   \n",
       "\n",
       "   partner_name  vc_completion_date  CONTACT  eventdesc  \n",
       "1         14169                   0        0        616  \n",
       "2         12145                7037     6920        558  \n",
       "3         31703               25393     6061       1223  \n",
       "4         74267               26253    11556       3149  \n",
       "5         75631               54124    21555      11374  \n",
       "6         33432               28337    25491      13909  \n",
       "7          6574                6574     6574       6574  "
      ]
     },
     "execution_count": 13,
     "metadata": {},
     "output_type": "execute_result"
    }
   ],
   "source": [
    "mydata.groupby(mydata.sum(axis=1)).agg(sum) #users grouped by count of feature conversions, up to 7 (and apparently not less than 1)"
   ]
  },
  {
   "cell_type": "code",
   "execution_count": 14,
   "metadata": {},
   "outputs": [
    {
     "data": {
      "image/png": "[encoded data removed]",
      "text/plain": [
       "<matplotlib.figure.Figure at 0x10812160>"
      ]
     },
     "metadata": {},
     "output_type": "display_data"
    }
   ],
   "source": [
    "ax = mydata.groupby(mydata.sum(axis=1)).agg(sum).plot.bar(figsize=(8,8))"
   ]
  },
  {
   "cell_type": "markdown",
   "metadata": {},
   "source": [
    "It certainly makes sense for the clustered bars to flatten as we move from left to right. It's interesting that four variables applies to more users than two or three variables, but it makes sense for those easy behaviors to be correlated (whereas vc_completion is harder to achieve). The cohort of users who've contacted us seems quite small, but it's important to note that I am using a pretty small set of data for this initial EDA. "
   ]
  },
  {
   "cell_type": "code",
   "execution_count": 15,
   "metadata": {},
   "outputs": [
    {
     "data": {
      "image/png": "[encoded data removed]",
      "text/plain": [
       "<matplotlib.figure.Figure at 0x109a7b00>"
      ]
     },
     "metadata": {},
     "output_type": "display_data"
    }
   ],
   "source": [
    "#Let's see some color!\n",
    "#number of contact conversions for each grouping\n",
    "ax=mydata[mydata.loc[:, 'CONTACT']==1].groupby('CONTACT').agg(sum).plot.bar(figsize=(8,6))"
   ]
  },
  {
   "cell_type": "code",
   "execution_count": 16,
   "metadata": {},
   "outputs": [
    {
     "data": {
      "image/png": "[encoded data removed]",
      "text/plain": [
       "<matplotlib.figure.Figure at 0x10d4e7b8>"
      ]
     },
     "metadata": {},
     "output_type": "display_data"
    }
   ],
   "source": [
    "corr = mydata.corr()\n",
    "f, ax = plt.subplots(figsize=(10, 8))\n",
    "g = sns.heatmap(corr, mask=np.zeros_like(corr, dtype=np.bool), cmap=sns.diverging_palette(220, 10, as_cmap=True),\n",
    "            square=True, ax=ax)\n",
    "\n",
    "#no single variable seems to correlate too strongly to a contact, but partnername is a promising lead"
   ]
  },
  {
   "cell_type": "code",
   "execution_count": 17,
   "metadata": {},
   "outputs": [
    {
     "data": {
      "text/plain": [
       "LinearRegression(copy_X=True, fit_intercept=True, n_jobs=1, normalize=False)"
      ]
     },
     "execution_count": 17,
     "metadata": {},
     "output_type": "execute_result"
    }
   ],
   "source": [
    "from sklearn.linear_model import LinearRegression\n",
    "linreg = LinearRegression()\n",
    "\n",
    "feature_cols = ['partner_name']\n",
    "X = mydata.loc[:, feature_cols]\n",
    "y = mydata.loc[:, 'CONTACT']\n",
    "\n",
    "linreg.fit(X, y)"
   ]
  },
  {
   "cell_type": "code",
   "execution_count": 18,
   "metadata": {},
   "outputs": [],
   "source": [
    "y_pred = linreg.predict(X)\n",
    "mydata.loc[:, 'y_pred'] = y_pred"
   ]
  },
  {
   "cell_type": "code",
   "execution_count": 19,
   "metadata": {},
   "outputs": [
    {
     "name": "stdout",
     "output_type": "stream",
     "text": [
      "0.06320564872020357\n",
      "[0.17983145]\n"
     ]
    }
   ],
   "source": [
    "print(linreg.intercept_)\n",
    "print(linreg.coef_)"
   ]
  },
  {
   "cell_type": "code",
   "execution_count": 20,
   "metadata": {},
   "outputs": [],
   "source": [
    "#linreg isn't too helpful. Let's try logit. \n",
    "\n",
    "mydata.drop(['y_pred'], axis=1, inplace=True)\n",
    "from sklearn.linear_model import LogisticRegression\n",
    "\n",
    "logreg = LogisticRegression()\n",
    "\n",
    "\n",
    "feature_cols = [i for i in mydata if ('CONTACT' not in i and 'pred' not in i)]\n",
    "X = mydata.loc[:, feature_cols]\n",
    "y = mydata.loc[:, 'CONTACT']\n",
    "\n",
    "logreg.fit(X,y)\n",
    "pred = logreg.predict(X)"
   ]
  },
  {
   "cell_type": "code",
   "execution_count": 21,
   "metadata": {},
   "outputs": [
    {
     "data": {
      "text/plain": [
       "['FIRST_WEB_LOGIN_DATE',\n",
       " 'hra_completion_date',\n",
       " 'FIRST_APP_LOGIN_DATE',\n",
       " 'partner_name',\n",
       " 'vc_completion_date',\n",
       " 'eventdesc']"
      ]
     },
     "execution_count": 21,
     "metadata": {},
     "output_type": "execute_result"
    }
   ],
   "source": [
    "feature_cols"
   ]
  },
  {
   "cell_type": "code",
   "execution_count": 22,
   "metadata": {},
   "outputs": [
    {
     "data": {
      "text/plain": [
       "array([[0.96764243, 0.03235757],\n",
       "       [0.96764243, 0.03235757],\n",
       "       [0.694829  , 0.305171  ],\n",
       "       [0.88157077, 0.11842923],\n",
       "       [0.78011857, 0.21988143],\n",
       "       [0.78011857, 0.21988143],\n",
       "       [0.79332193, 0.20667807],\n",
       "       [0.96764243, 0.03235757],\n",
       "       [0.96764243, 0.03235757],\n",
       "       [0.90144802, 0.09855198]])"
      ]
     },
     "execution_count": 22,
     "metadata": {},
     "output_type": "execute_result"
    }
   ],
   "source": [
    "logreg.predict_proba(X)[0:10]"
   ]
  },
  {
   "cell_type": "code",
   "execution_count": 23,
   "metadata": {},
   "outputs": [],
   "source": [
    "mydata.loc[:, 'CONTACT_PROB'] = logreg.predict_proba(X)[:, 1]"
   ]
  },
  {
   "cell_type": "code",
   "execution_count": 24,
   "metadata": {},
   "outputs": [
    {
     "data": {
      "text/plain": [
       "0.032358    138909\n",
       "0.219881     70868\n",
       "0.305171     66707\n",
       "0.079369     42980\n",
       "0.046619     29653\n",
       "0.118429     26129\n",
       "0.098552     21833\n",
       "0.111954     18468\n",
       "0.187150     17545\n",
       "0.459968     14698\n",
       "0.353421     14410\n",
       "0.161599     13566\n",
       "0.164191     13101\n",
       "0.230975     12648\n",
       "0.069562      9479\n",
       "0.049527      7438\n",
       "0.070802      1987\n",
       "0.145560      1745\n",
       "0.174928      1676\n",
       "0.368074       900\n",
       "0.196453       779\n",
       "0.143241       775\n",
       "0.275869       740\n",
       "0.272088       717\n",
       "0.206678       708\n",
       "0.104343       643\n",
       "0.166465       624\n",
       "0.060900       473\n",
       "0.086616       328\n",
       "0.308676       162\n",
       "0.248331       158\n",
       "0.126627       142\n",
       "0.130880        62\n",
       "0.091777        58\n",
       "0.128744        35\n",
       "0.184290        20\n",
       "0.190058         3\n",
       "0.251878         3\n",
       "0.464669         1\n",
       "Name: CONTACT_PROB, dtype: int64"
      ]
     },
     "execution_count": 24,
     "metadata": {},
     "output_type": "execute_result"
    }
   ],
   "source": [
    "mydata.loc[:, 'CONTACT_PROB'].value_counts().sort_values(ascending=False)"
   ]
  },
  {
   "cell_type": "code",
   "execution_count": 29,
   "metadata": {},
   "outputs": [
    {
     "name": "stdout",
     "output_type": "stream",
     "text": [
      "14699\n"
     ]
    },
    {
     "data": {
      "text/html": [
       "<div>\n",
       "<style scoped>\n",
       "    .dataframe tbody tr th:only-of-type {\n",
       "        vertical-align: middle;\n",
       "    }\n",
       "\n",
       "    .dataframe tbody tr th {\n",
       "        vertical-align: top;\n",
       "    }\n",
       "\n",
       "    .dataframe thead th {\n",
       "        text-align: right;\n",
       "    }\n",
       "</style>\n",
       "<table border=\"1\" class=\"dataframe\">\n",
       "  <thead>\n",
       "    <tr style=\"text-align: right;\">\n",
       "      <th></th>\n",
       "      <th>FIRST_WEB_LOGIN_DATE</th>\n",
       "      <th>hra_completion_date</th>\n",
       "      <th>FIRST_APP_LOGIN_DATE</th>\n",
       "      <th>partner_name</th>\n",
       "      <th>vc_completion_date</th>\n",
       "      <th>CONTACT</th>\n",
       "      <th>eventdesc</th>\n",
       "      <th>CONTACT_PROB</th>\n",
       "    </tr>\n",
       "    <tr>\n",
       "      <th>ENTITY</th>\n",
       "      <th></th>\n",
       "      <th></th>\n",
       "      <th></th>\n",
       "      <th></th>\n",
       "      <th></th>\n",
       "      <th></th>\n",
       "      <th></th>\n",
       "      <th></th>\n",
       "    </tr>\n",
       "  </thead>\n",
       "  <tbody>\n",
       "    <tr>\n",
       "      <th>1400249080</th>\n",
       "      <td>1</td>\n",
       "      <td>1</td>\n",
       "      <td>1</td>\n",
       "      <td>1</td>\n",
       "      <td>1</td>\n",
       "      <td>0</td>\n",
       "      <td>1</td>\n",
       "      <td>0.459968</td>\n",
       "    </tr>\n",
       "    <tr>\n",
       "      <th>1400598064</th>\n",
       "      <td>1</td>\n",
       "      <td>1</td>\n",
       "      <td>1</td>\n",
       "      <td>1</td>\n",
       "      <td>1</td>\n",
       "      <td>1</td>\n",
       "      <td>1</td>\n",
       "      <td>0.459968</td>\n",
       "    </tr>\n",
       "    <tr>\n",
       "      <th>1403289042</th>\n",
       "      <td>1</td>\n",
       "      <td>1</td>\n",
       "      <td>1</td>\n",
       "      <td>1</td>\n",
       "      <td>1</td>\n",
       "      <td>0</td>\n",
       "      <td>1</td>\n",
       "      <td>0.459968</td>\n",
       "    </tr>\n",
       "    <tr>\n",
       "      <th>1403289067</th>\n",
       "      <td>1</td>\n",
       "      <td>1</td>\n",
       "      <td>1</td>\n",
       "      <td>1</td>\n",
       "      <td>1</td>\n",
       "      <td>0</td>\n",
       "      <td>1</td>\n",
       "      <td>0.459968</td>\n",
       "    </tr>\n",
       "    <tr>\n",
       "      <th>1403290487</th>\n",
       "      <td>1</td>\n",
       "      <td>1</td>\n",
       "      <td>1</td>\n",
       "      <td>1</td>\n",
       "      <td>1</td>\n",
       "      <td>0</td>\n",
       "      <td>1</td>\n",
       "      <td>0.459968</td>\n",
       "    </tr>\n",
       "  </tbody>\n",
       "</table>\n",
       "</div>"
      ],
      "text/plain": [
       "            FIRST_WEB_LOGIN_DATE  hra_completion_date  FIRST_APP_LOGIN_DATE  \\\n",
       "ENTITY                                                                        \n",
       "1400249080                     1                    1                     1   \n",
       "1400598064                     1                    1                     1   \n",
       "1403289042                     1                    1                     1   \n",
       "1403289067                     1                    1                     1   \n",
       "1403290487                     1                    1                     1   \n",
       "\n",
       "            partner_name  vc_completion_date  CONTACT  eventdesc  CONTACT_PROB  \n",
       "ENTITY                                                                          \n",
       "1400249080             1                   1        0          1      0.459968  \n",
       "1400598064             1                   1        1          1      0.459968  \n",
       "1403289042             1                   1        0          1      0.459968  \n",
       "1403289067             1                   1        0          1      0.459968  \n",
       "1403290487             1                   1        0          1      0.459968  "
      ]
     },
     "execution_count": 29,
     "metadata": {},
     "output_type": "execute_result"
    }
   ],
   "source": [
    "print(len(mydata[mydata.loc[:, 'CONTACT_PROB'] > 0.4]))\n",
    "mydata[mydata.loc[:, 'CONTACT_PROB'] > 0.4].head()\n",
    "#presumably the likeliest contacts. \n",
    "#In other words, people for whom all conversions are true have a slightly higher chance of contacting us than \n",
    "#people for whom any other sets of conversions are true. That makes sense--but is it helpful?\n"
   ]
  },
  {
   "cell_type": "markdown",
   "metadata": {},
   "source": [
    "This, clearly, still is not very helpful. Let's try a non-parametric approach."
   ]
  },
  {
   "cell_type": "code",
   "execution_count": 30,
   "metadata": {},
   "outputs": [
    {
     "data": {
      "text/plain": [
       "DecisionTreeClassifier(class_weight=None, criterion='gini', max_depth=3,\n",
       "            max_features=None, max_leaf_nodes=None,\n",
       "            min_impurity_decrease=0.0, min_impurity_split=None,\n",
       "            min_samples_leaf=1, min_samples_split=2,\n",
       "            min_weight_fraction_leaf=0.0, presort=False, random_state=1,\n",
       "            splitter='best')"
      ]
     },
     "execution_count": 30,
     "metadata": {},
     "output_type": "execute_result"
    }
   ],
   "source": [
    "from sklearn.tree import DecisionTreeClassifier\n",
    "\n",
    "X = mydata.loc[:, feature_cols]\n",
    "y = mydata.loc[:, 'CONTACT']\n",
    "\n",
    "treeclf = DecisionTreeClassifier(max_depth=3, random_state=1)\n",
    "treeclf.fit(X, y)"
   ]
  },
  {
   "cell_type": "code",
   "execution_count": 44,
   "metadata": {},
   "outputs": [
    {
     "data": {
      "text/html": [
       "<div>\n",
       "<style scoped>\n",
       "    .dataframe tbody tr th:only-of-type {\n",
       "        vertical-align: middle;\n",
       "    }\n",
       "\n",
       "    .dataframe tbody tr th {\n",
       "        vertical-align: top;\n",
       "    }\n",
       "\n",
       "    .dataframe thead th {\n",
       "        text-align: right;\n",
       "    }\n",
       "</style>\n",
       "<table border=\"1\" class=\"dataframe\">\n",
       "  <thead>\n",
       "    <tr style=\"text-align: right;\">\n",
       "      <th></th>\n",
       "      <th>feature</th>\n",
       "      <th>importance</th>\n",
       "    </tr>\n",
       "  </thead>\n",
       "  <tbody>\n",
       "    <tr>\n",
       "      <th>0</th>\n",
       "      <td>FIRST_WEB_LOGIN_DATE</td>\n",
       "      <td>0.000000</td>\n",
       "    </tr>\n",
       "    <tr>\n",
       "      <th>1</th>\n",
       "      <td>hra_completion_date</td>\n",
       "      <td>0.080374</td>\n",
       "    </tr>\n",
       "    <tr>\n",
       "      <th>2</th>\n",
       "      <td>FIRST_APP_LOGIN_DATE</td>\n",
       "      <td>0.002230</td>\n",
       "    </tr>\n",
       "    <tr>\n",
       "      <th>3</th>\n",
       "      <td>partner_name</td>\n",
       "      <td>0.678932</td>\n",
       "    </tr>\n",
       "    <tr>\n",
       "      <th>4</th>\n",
       "      <td>vc_completion_date</td>\n",
       "      <td>0.103570</td>\n",
       "    </tr>\n",
       "    <tr>\n",
       "      <th>5</th>\n",
       "      <td>eventdesc</td>\n",
       "      <td>0.134894</td>\n",
       "    </tr>\n",
       "  </tbody>\n",
       "</table>\n",
       "</div>"
      ],
      "text/plain": [
       "                feature  importance\n",
       "0  FIRST_WEB_LOGIN_DATE    0.000000\n",
       "1   hra_completion_date    0.080374\n",
       "2  FIRST_APP_LOGIN_DATE    0.002230\n",
       "3          partner_name    0.678932\n",
       "4    vc_completion_date    0.103570\n",
       "5             eventdesc    0.134894"
      ]
     },
     "execution_count": 44,
     "metadata": {},
     "output_type": "execute_result"
    }
   ],
   "source": [
    "pd.DataFrame({'feature':feature_cols, 'importance':treeclf.feature_importances_})"
   ]
  },
  {
   "cell_type": "markdown",
   "metadata": {},
   "source": [
    "Some comments for next time: \n",
    "I wonder if engagement factors will suffice. I am having some difficulty gathering full demographic date (age, gender, etc.), but will try to blend those factors into the final product. \n",
    "I also have not fully reckoned with a really severe limitation to this data: we don't know whether these engagement factors were true before the user actually contacted us. It could be that they are more engaged post-conversion. One might with some justice assume that this cohort was more inclined to engage anyway, but that's still an unchastened assumption. \n",
    "Finally, 46% contact probability with logistic regression is still less than my goal of >50%. "
   ]
  }
 ],
 "metadata": {
  "kernelspec": {
   "display_name": "Python 2",
   "language": "python",
   "name": "python2"
  },
  "language_info": {
   "codemirror_mode": {
    "name": "ipython",
    "version": 2
   },
   "file_extension": ".py",
   "mimetype": "text/x-python",
   "name": "python",
   "nbconvert_exporter": "python",
   "pygments_lexer": "ipython2",
   "version": "2.7.15"
  }
 },
 "nbformat": 4,
 "nbformat_minor": 2
}
